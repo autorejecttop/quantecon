import numpy as np
import matplotlib.pyplot as plt

ϵ_values = np.random.randn(100)
plt.plot(ϵ_values)
plt.show()


np.sqrt(4)


np.float64(2.0)


np.log(4)


np.float64(1.3862943611198906)


print(np.__file__)


ts_length = 100
ϵ_values = []

for i in range(ts_length):
    e = np.random.randn()
    ϵ_values.append(e)

plt.plot(ϵ_values)
plt.show()


ts_length = 100
ϵ_values = []
i = 0

while i < ts_length:
    e = np.random.randn()
    ϵ_values.append(e)
    i = i + 1

plt.plot(ϵ_values)
plt.show()


r = 0.025
T = 50
b = np.empty(T+1)
b[0] = 10

for t in range(T):
    b[t+1] = (1 + r) * b[t]

plt.plot(b, label='bank balance')
plt.legend()
plt.show()





import numpy as np
import matplotlib.pyplot as plt

T = 200
alpha = 0.9
x = np.empty(T+1)
x[0] = 0

for t in range(T):
    x[t+1] = (alpha * x[t]) + np.random.randn()

plt.plot(x)
plt.show()


import numpy as np
import matplotlib.pyplot as plt

T = 200
alphas = [0, 0.8, 0.98]
x = np.empty(T+1)
x[0] = 0

for alpha in alphas:
    for t in range(T):
        x[t+1] = (alpha * x[t]) + np.random.randn()
    plt.plot(x, label=f'alpha = {alpha}')

plt.legend()
plt.show()


import numpy as np
import matplotlib.pyplot as plt

T = 200
alpha = 0.9
x = np.empty(T+1)
x[0] = 0

for t in range(T):
    x[t+1] = alpha * np.abs(x[t]) + np.random.randn()

plt.plot(x)
plt.show()


# import numpy as np
# import matplotlib.pyplot as plt

# T = 200
# alpha = 0.9
# x = np.empty(T+1)
# x[0] = 0

# for t in range(T):
#     multiplier = x[t]
#     if (multiplier < 0):
#         multiplier *= -1
        
#     x[t+1] = alpha * multiplier + np.random.randn()

# plt.plot(x)
# plt.show()

import numpy as np
import matplotlib.pyplot as plt

T = 200
alpha = 0.9
x = np.empty(T+1)
x[0] = 0

for t in range(T):
    abs_x = -x[t] if x[t] < 0 else x[t]
    x[t+1] = alpha * abs_x + np.random.randn()

plt.plot(x)
plt.show()



